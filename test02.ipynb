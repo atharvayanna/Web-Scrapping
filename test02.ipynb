{
 "cells": [
  {
   "cell_type": "code",
   "execution_count": 2,
   "metadata": {},
   "outputs": [],
   "source": [
    "from bs4 import BeautifulSoup\n",
    "from selenium  import webdriver\n",
    "import time\n",
    "\n",
    "# to find elements by id\n",
    "from selenium.webdriver.common.by import By\n",
    "from selenium.webdriver.common.keys import Keys\n",
    "\n",
    "import re\n",
    "from datetime import datetime, timedelta\n",
    "\n",
    "from selenium.webdriver.firefox.service import Service as FirefoxService\n",
    "from selenium.webdriver.common.by import By\n",
    "from selenium.webdriver.support.ui import WebDriverWait\n",
    "from selenium.webdriver.support import expected_conditions as EC\n",
    "from selenium.webdriver.firefox.service import Service\n",
    "from selenium.webdriver.firefox.options import Options\n",
    "\n",
    "import time\n",
    "import os"
   ]
  },
  {
   "cell_type": "code",
   "execution_count": 9,
   "metadata": {},
   "outputs": [],
   "source": [
    "\n",
    "# Set the path to the correct geckodriver executable\n",
    "service = Service(executable_path=r'C:\\Users\\atharva.yanna\\Desktop\\Python\\geckodriver.exe')\n",
    "\n",
    "# Configure Firefox options\n",
    "options = Options()\n",
    "options.set_preference(\"browser.download.folderList\", 2)  # Use custom download path\n",
    "options.set_preference(\"browser.download.manager.showWhenStarting\", False)  # Disable the download dialog\n",
    "options.set_preference(\"browser.download.dir\", r\"C:\\Users\\atharva.yanna\\Downloads\")  # Set the download path\n",
    "options.set_preference(\"browser.helperApps.neverAsk.saveToDisk\", \"application/pdf\")  # MIME type for PDF\n",
    "options.set_preference(\"pdfjs.disabled\", True)  # Disable PDF viewer to ensure the file is downloaded\n",
    "\n",
    "# Create a WebDriver service and instance with the options\n",
    "driver = webdriver.Firefox(options=options, service=service)\n",
    "\n",
    "try:\n",
    "    # Navigate to the PDF URL\n",
    "    driver.get('https://www.tatamotors.com/wp-content/uploads/2023/10/Form-MGT-7.pdf')\n",
    "\n",
    "    # Optionally, you may want to add a delay to ensure the download starts\n",
    "    time.sleep(10)  # Sleep for 10 seconds to allow the download to complete\n",
    "\n",
    "    # Define the download directory and new file name\n",
    "    download_dir = r\"C:\\Users\\atharva.yanna\\Downloads\"\n",
    "    new_file_name = \"Renamed_Form_MGT-7.pdf\"\n",
    "    \n",
    "    # Wait until the file is downloaded (this part can be improved with more robust file checks)\n",
    "    time.sleep(5)  # Wait a few seconds for download to complete\n",
    "    \n",
    "    # Rename the file\n",
    "    downloaded_file_path = os.path.join(download_dir, \"Form-MGT-7.pdf\")\n",
    "    new_file_path = os.path.join(download_dir, new_file_name)\n",
    "    \n",
    "    if os.path.exists(downloaded_file_path):\n",
    "        os.rename(downloaded_file_path, new_file_path)\n",
    "        print(f\"File renamed to {new_file_name}\")\n",
    "    else:\n",
    "        print(\"Downloaded file not found.\")\n",
    "\n",
    "finally:\n",
    "    # Quit the driver\n",
    "    driver.quit()\n"
   ]
  },
  {
   "cell_type": "code",
   "execution_count": 17,
   "metadata": {},
   "outputs": [],
   "source": [
    "def download_form(link, file_name):\n",
    "    \"\"\"This function takes link as input and downloads the pdf\"\"\"\n",
    "    # Set the path to the correct geckodriver executable\n",
    "    service = Service(executable_path=r'C:\\Users\\atharva.yanna\\Desktop\\Python\\geckodriver.exe')\n",
    "\n",
    "    # Configure Firefox options\n",
    "    options = Options()\n",
    "    options.set_preference(\"browser.download.folderList\", 2)  # Use custom download path\n",
    "    options.set_preference(\"browser.download.manager.showWhenStarting\", False)  # Disable the download dialog\n",
    "    options.set_preference(\"browser.download.dir\", r\"C:\\Users\\atharva.yanna\\Desktop\\Python\\Assignment 2\\Forms\")  # Set the download path\n",
    "    options.set_preference(\"browser.helperApps.neverAsk.saveToDisk\", \"application/pdf\")  # MIME type for PDF\n",
    "    options.set_preference(\"pdfjs.disabled\", True)  # Disable PDF viewer to ensure the file is downloaded\n",
    "\n",
    "    # Create a WebDriver service and instance with the options\n",
    "    driver = webdriver.Firefox(options=options, service=service)\n",
    "\n",
    "    try:\n",
    "        # Navigate to the PDF URL\n",
    "        if '.pdf' in link:\n",
    "            driver.get(link)\n",
    "            time.sleep(1)  \n",
    "            driver.close()\n",
    "\n",
    "        driver.quit()\n",
    "\n",
    "        # Define the download directory and new file name\n",
    "        download_dir = r\"C:\\Users\\atharva.yanna\\Desktop\\Python\\Assignment 2\\Forms\"\n",
    "        time.sleep(2) \n",
    "        \n",
    "        \n",
    "        # Rename the file\n",
    "        downloaded_file_path = os.path.join(download_dir, \"Form-MGT-7.pdf\")\n",
    "        new_file_path = os.path.join(download_dir, file_name)\n",
    "        \n",
    "        if os.path.exists(downloaded_file_path):\n",
    "            os.rename(downloaded_file_path, new_file_path)\n",
    "            print(f\"File renamed to {file_name}\")\n",
    "        else:\n",
    "            print(\"Downloaded file not found.\")\n",
    "    except Exception as e:\n",
    "        print(e)\n",
    "\n",
    "    finally:\n",
    "        if driver:\n",
    "            driver.quit()\n",
    "    "
   ]
  },
  {
   "cell_type": "code",
   "execution_count": 18,
   "metadata": {},
   "outputs": [
    {
     "name": "stdout",
     "output_type": "stream",
     "text": [
      "Message: Failed to decode response from marionette\n",
      "\n"
     ]
    }
   ],
   "source": [
    "link = 'https://www.tatamotors.com/wp-content/uploads/2023/10/Form-MGT-7.pdf'\n",
    "download_form(link, 'Tata form.pdf')"
   ]
  },
  {
   "cell_type": "code",
   "execution_count": 27,
   "metadata": {},
   "outputs": [
    {
     "name": "stdout",
     "output_type": "stream",
     "text": [
      "Page 2 of 18 (a) Details of stock exchanges where shares are listed   \n",
      " S. No.  \n",
      "    Stock Exchange Name  \n",
      "    Code  \n",
      "   \n",
      "1 BSE LIMITED 1\n",
      "2 NATIONAL STOCK EXCHANGE OF INDIA LIMITED 1,024\n",
      " Name of the Registrar and Transfer Agent   \n",
      "TSR CONSULTANTS PRIVATE LIMITED         (b) CIN of the Registrar and Transfer Agent   U74999MH2018PTC307859\n",
      " Registered office address of the Registrar and Transfer Agents   \n",
      " C-101, 1st Floor, 247 Park, Lal Bahadur Shastri Marg, Vikhroli (West) Mumbai, 400083, Maharashtra, \n",
      "IndiaPre-fill\n",
      "  (vii) *Financial year From date 01/04/2021 (DD/MM/YYYY)   To date 31/03/2022  (DD/MM/YYYY)  \n",
      "  \n",
      "   (viii) *Whether Annual general meeting (AGM) held  \n",
      "  Yes No\n",
      "(a) If yes, date of AGM   \n",
      "(b) Due date of AGM   31/08/2022\n",
      " (c) Whether any extension for AGM granted   Yes No\n",
      "  II. PRINCIPAL BUSINESS ACTIVITIES OF THE COMPANY   \n",
      "*Number of business activities  1\n",
      "S.No Main \n",
      "Activity group code Description of Main Activity group     Business Activity Code  Description of Business Activity      % of turnover of the company\n",
      "1 C Manufacturing C11Motor vehicles, trailers, semi trailers and \n",
      "other Transport Vehicles86.79\n",
      " III. PARTICULARS OF HOLDING, SUBSIDIARY AND ASSOCIATE COMPANIES  \n",
      "      (INCLUDING JOINT VENTURES)  \n",
      "*No. of Companies for which information is to be given  21 Pre-fill All\n",
      "S.No Name of the company  \n",
      " CIN / FCRN Holding/ Subsidiary/Associate/ \n",
      "Joint Venture% of shares held  \n",
      "    \n",
      "1 TML BUSINESS SERVICES LIMI TU72100MH1972PLC015561 Subsidiary 100\n",
      "2 TATA MOTORS INSURANCE BR U50300MH1997PLC149349 Subsidiary 100\n"
     ]
    }
   ],
   "source": [
    "from pypdf import PdfReader\n",
    "\n",
    "reader = PdfReader(r'C:\\Users\\atharva.yanna\\Desktop\\Python\\Assignment 2\\Forms\\Tata form.pdf')\n",
    "\n",
    "pages = reader.pages[1]\n",
    "print(pages.extract_text())"
   ]
  },
  {
   "cell_type": "code",
   "execution_count": 34,
   "metadata": {},
   "outputs": [
    {
     "name": "stdout",
     "output_type": "stream",
     "text": [
      "Page 3 of 183 TMF HOLDINGS LIMITED U65923MH2006PLC162503 Subsidiary 100\n",
      "4 TATA TECHNOLOGIES LIMITE DU72200PN1994PLC013313 Subsidiary 74.42\n",
      "5 TATA MARCOPOLO MOTORS LU34101MH2006PLC164771 Subsidiary 61.86\n",
      "6 BRABO ROBOTICS AND AUTO MU29309MH2019PLC328152 Subsidiary 100\n",
      "7 TATA MOTORS PASSENGER VE U72900MH2020PLC339230 Subsidiary 100\n",
      "8 TATA MOTORS FINANCE LIMIT U45200MH1989PLC050444 Subsidiary 100\n",
      "9 JAGUAR LAND ROVER INDIA LI U34200MH2012FLC237194 Subsidiary 100\n",
      "10 J T Special Vehicles Private Li mU34102TZ2016PTC027770 Subsidiary 100\n",
      "11 TML CV Mobility Solutions Lim U50500MH2021PLC361754 Subsidiary 100\n",
      "12 Tata Passenger Electric Mobili tU34100MH2021PLC373648 Subsidiary 100\n",
      "13 Tata Motors Finance Solutions U65910MH1992PLC187184 Subsidiary 100\n",
      "14 AUTOMOBILE CORPORATION OL35911GA1980PLC000400 Associate 49.77\n",
      "15 Tata Hitachi Construction Mac hU85110KA1998PTC024588 Associate 39.99\n",
      "16 Tata Precision Industries (Indi aU29120MP1995PLC009773 Associate 39.19\n",
      "17 Tata AutoComp Systems Limit eU34100PN1995PLC158999 Associate 26\n",
      "18 Tata Cummins Private Limited U34101PN1993PTC190262 Joint Venture 50\n",
      "19 Fiat India Automobiles Private U28900PN1997PTC130940 Joint Venture 50\n",
      "20 TATA HAL Technologies Limit eU93000KA2008PLC046588 Joint Venture 37.21\n",
      "21  Loginomic Tech Solutions Pri vU74900KA2015PTC080558 Joint Venture 26\n",
      " IV. SHARE CAPITAL, DEBENTURES AND OTHER SECURITIES OF THE COMPANY   \n",
      "(i) *SHARE CAPITAL  \n",
      "  (a) Equity share capital\n",
      "Particulars  \n",
      "   Authorised \n",
      "capitalIssued  \n",
      "capital  Subscribed  \n",
      "capital  Paid up capital\n",
      "Total number of equity shares     5,000,000,000 3,829,890,676 3,829,164,903 3,829,164,903\n",
      "Total amount of equity shares (in Rupees)10,000,000,000 7,659,781,352 7,658,329,806 7,658,329,806\n"
     ]
    }
   ],
   "source": [
    "page_number = 3\n",
    "pages = []\n",
    "for i in range(0,page_number):\n",
    "    pages.append(reader.pages[i])\n",
    "\n",
    "len(pages)\n",
    "print(pages[2].extract_text())"
   ]
  },
  {
   "cell_type": "code",
   "execution_count": 35,
   "metadata": {},
   "outputs": [],
   "source": [
    "import re"
   ]
  },
  {
   "cell_type": "code",
   "execution_count": 72,
   "metadata": {},
   "outputs": [
    {
     "name": "stdout",
     "output_type": "stream",
     "text": [
      "[('183', ' ', 'TMF HOLDINGS LIMITED U65923MH2006PLC162503 Subsidiary', '100'), ('4', ' ', 'TATA TECHNOLOGIES LIMITE DU72200PN1994PLC013313 Subsidiary', '74'), ('5', ' ', 'TATA MARCOPOLO MOTORS LU34101MH2006PLC164771 Subsidiary', '61'), ('6', ' ', 'BRABO ROBOTICS AND AUTO MU29309MH2019PLC328152 Subsidiary', '100'), ('7', ' ', 'TATA MOTORS PASSENGER VE U72900MH2020PLC339230 Subsidiary', '100'), ('8', ' ', 'TATA MOTORS FINANCE LIMIT U45200MH1989PLC050444 Subsidiary', '100'), ('9', ' ', 'JAGUAR LAND ROVER INDIA LI U34200MH2012FLC237194 Subsidiary', '100'), ('10', ' ', 'J T Special Vehicles Private Li mU34102TZ2016PTC027770 Subsidiary', '100'), ('11', ' ', 'TML CV Mobility Solutions Lim U50500MH2021PLC361754 Subsidiary', '100'), ('12', ' ', 'Tata Passenger Electric Mobili tU34100MH2021PLC373648 Subsidiary', '100'), ('13', ' ', 'Tata Motors Finance Solutions U65910MH1992PLC187184 Subsidiary', '100'), ('14', ' ', 'AUTOMOBILE CORPORATION OL35911GA1980PLC000400 Associate', '49'), ('15', ' ', 'Tata Hitachi Construction Mac hU85110KA1998PTC024588 Associate', '39'), ('16', ' ', 'Tata Precision Industries (Indi aU29120MP1995PLC009773 Associate', '39'), ('17', ' ', 'Tata AutoComp Systems Limit eU34100PN1995PLC158999 Associate', '26'), ('18', ' ', 'Tata Cummins Private Limited U34101PN1993PTC190262 Joint Venture', '50'), ('19', ' ', 'Fiat India Automobiles Private U28900PN1997PTC130940 Joint Venture', '50'), ('20', ' ', 'TATA HAL Technologies Limit eU93000KA2008PLC046588 Joint Venture', '37'), ('21', ' ', 'Loginomic Tech Solutions Pri vU74900KA2015PTC080558 Joint Venture', '26')]\n",
      "U65923MH2006PLC162503\n",
      "U72200PN1994PLC013313\n",
      "U34101MH2006PLC164771\n",
      "U29309MH2019PLC328152\n",
      "U72900MH2020PLC339230\n",
      "U45200MH1989PLC050444\n",
      "U34200MH2012FLC237194\n",
      "U34102TZ2016PTC027770\n",
      "U50500MH2021PLC361754\n",
      "U34100MH2021PLC373648\n",
      "U65910MH1992PLC187184\n",
      "L35911GA1980PLC000400\n",
      "U85110KA1998PTC024588\n",
      "U29120MP1995PLC009773\n",
      "U34100PN1995PLC158999\n",
      "U34101PN1993PTC190262\n",
      "U28900PN1997PTC130940\n",
      "U93000KA2008PLC046588\n",
      "U74900KA2015PTC080558\n"
     ]
    }
   ],
   "source": [
    "pattern  = r'\\B[0-9]+(\\s)+[A-Z]+ [A-z][0-9]+[A-Z 0-9]+ [A-z][a-z]+ (Venture)? [0-9]+'\n",
    "\n",
    "pattern = r'[0-9]+ (/)'\n",
    "\n",
    "match = re.findall(r'([0-9]+)+( )+([A-Z]+.*) ([0-9]+)+', pages[2].extract_text())\n",
    "if match:\n",
    "    print(match)\n",
    "else:\n",
    "    print('No match found')\n",
    "\n",
    "for e in match:\n",
    "    match  = re.search(r'[A-Z]([0-9]+).+[A-Z]+[0-9]+', e[2])\n",
    "    if match:\n",
    "        print(match.group())\n",
    "    \n",
    "# if cin:\n",
    "#     print(cin)\n",
    "# else:\n",
    "#     print('No cin found')"
   ]
  },
  {
   "cell_type": "code",
   "execution_count": 77,
   "metadata": {},
   "outputs": [
    {
     "name": "stdout",
     "output_type": "stream",
     "text": [
      "['U74999MH2018PTC307859', 'U72100MH1972PLC015561', 'U50300MH1997PLC149349']\n"
     ]
    }
   ],
   "source": [
    "pattern = r'([0-9]+) ([\\w]+)* ([\\w]+).* ([\\w]+ [\\w]*).* ([0-9]+)'\n",
    "\n",
    "match = re.findall(r'([A-Z][0-9]+[A-Z]+[0-9]+[A-Z]+[0-9]+)', pages[1].extract_text())\n",
    "if match:\n",
    "    print(match)\n",
    "else:\n",
    "    print('No match found')"
   ]
  },
  {
   "cell_type": "markdown",
   "metadata": {},
   "source": [
    "To find cin from page"
   ]
  },
  {
   "cell_type": "code",
   "execution_count": 78,
   "metadata": {},
   "outputs": [],
   "source": [
    "def find_cin(cin:list , page):\n",
    "    \"\"\"This function takes list and page object as input and returns the list of CIN numbers as output\"\"\"\n",
    "    match = re.findall(r'([A-Z][0-9]+[A-Z]+[0-9]+[A-Z]+[0-9]+)', page.extract_text())\n",
    "    if match:\n",
    "        for e in match:\n",
    "            cin.append(e)\n",
    "    \n",
    "    return cin"
   ]
  },
  {
   "cell_type": "code",
   "execution_count": 79,
   "metadata": {},
   "outputs": [
    {
     "data": {
      "text/plain": [
       "23"
      ]
     },
     "execution_count": 79,
     "metadata": {},
     "output_type": "execute_result"
    }
   ],
   "source": [
    "cin = []\n",
    "for i in range(0,3):\n",
    "    cin = find_cin(cin,pages[i])\n",
    "\n",
    "len(cin)"
   ]
  },
  {
   "cell_type": "markdown",
   "metadata": {},
   "source": [
    "To find cin from table only"
   ]
  },
  {
   "cell_type": "code",
   "execution_count": 80,
   "metadata": {},
   "outputs": [],
   "source": [
    "def table_cin(cin: list,page):\n",
    "    pattern = r'([0-9]+)+( )+([A-Z]+.*) ([0-9]+)+'\n",
    "    match = re.findall(pattern, page.extract_text())\n",
    "    if match:\n",
    "        for e in match:\n",
    "            match  = re.search(r'[A-Z]([0-9]+).+[A-Z]+[0-9]+', e[2])\n",
    "            if match:\n",
    "                cin.append(match.group())\n",
    "    \n",
    "    return cin\n",
    "    "
   ]
  },
  {
   "cell_type": "code",
   "execution_count": 84,
   "metadata": {},
   "outputs": [
    {
     "data": {
      "text/plain": [
       "21"
      ]
     },
     "execution_count": 84,
     "metadata": {},
     "output_type": "execute_result"
    }
   ],
   "source": [
    "cin = []\n",
    "for i in range(0,3):\n",
    "    cin = table_cin(cin,pages[i])\n",
    "\n",
    "len(cin)\n",
    "# for e in cin:\n",
    "#     print(e)"
   ]
  },
  {
   "cell_type": "code",
   "execution_count": 129,
   "metadata": {},
   "outputs": [],
   "source": [
    "pages = []\n",
    "for i in range(0,3):\n",
    "    pages.append(reader.pages[i])"
   ]
  },
  {
   "cell_type": "markdown",
   "metadata": {},
   "source": [
    "To find mail id"
   ]
  },
  {
   "cell_type": "code",
   "execution_count": null,
   "metadata": {},
   "outputs": [],
   "source": [
    "def find_mailid(mail_id:list,page):\n",
    "    \"\"\"This function takes list and page no as input and return list with all mail in page\"\"\"\n",
    "\n",
    "    pattern = r'([\\w]+@[\\w]+.[\\w]+)'\n",
    "    match = re.findall(pattern, page.extract_text())\n",
    "    for e in match:\n",
    "        mail_id.append(e)\n",
    "\n",
    "    return mail_id"
   ]
  },
  {
   "cell_type": "code",
   "execution_count": 88,
   "metadata": {},
   "outputs": [
    {
     "name": "stdout",
     "output_type": "stream",
     "text": [
      "['inv_rel@tatamotors.com']\n"
     ]
    }
   ],
   "source": [
    "pattern = r'([\\w]+@[\\w]+.[\\w]+)'\n",
    "\n",
    "match = re.findall(pattern, pages[0].extract_text())\n",
    "print(match)"
   ]
  },
  {
   "cell_type": "markdown",
   "metadata": {},
   "source": [
    "To find Phone no\n"
   ]
  },
  {
   "cell_type": "code",
   "execution_count": 112,
   "metadata": {},
   "outputs": [],
   "source": [
    "def find_phone(phone, page):\n",
    "    \"\"\"This Function is used to get the phone no from the pdf\"\"\"\n",
    "    pattern = r'Telephone number with STD code ((\\+)?[0-9]+(-)?[0-9]+)'\n",
    "\n",
    "    match = re.findall(pattern, page.extract_text())\n",
    "    # print(match[0][0])\n",
    "    for e in match:\n",
    "        phone.append(e[0])\n",
    "\n",
    "    return phone"
   ]
  },
  {
   "cell_type": "code",
   "execution_count": 123,
   "metadata": {},
   "outputs": [
    {
     "name": "stdout",
     "output_type": "stream",
     "text": [
      "02266658282\n"
     ]
    }
   ],
   "source": [
    "pattern = r'Telephone number with STD code ((\\+)?[0-9]+(-)?[0-9]+)'\n",
    "\n",
    "match = re.findall(pattern, pages[0].extract_text())\n",
    "print(match[0][0])\n",
    "\n",
    "# phone = []\n",
    "# phone = find_phone(phone,pages[2])\n",
    "\n",
    "# print(phone)"
   ]
  },
  {
   "cell_type": "markdown",
   "metadata": {},
   "source": [
    "To find Pan number"
   ]
  },
  {
   "cell_type": "code",
   "execution_count": 126,
   "metadata": {},
   "outputs": [],
   "source": [
    "def find_PAN(pan,page):\n",
    "    \"\"\"This function search's for Pan number and return list of pan numbers\"\"\"\n",
    "    pattern = r'[A-Z]{5}[0-9]{4}[A-Z]'\n",
    "    match = re.findall(pattern, page.extract_text())\n",
    "    for e in match:\n",
    "        pan.append(e)\n",
    "    \n",
    "    return pan"
   ]
  },
  {
   "cell_type": "code",
   "execution_count": 127,
   "metadata": {},
   "outputs": [
    {
     "name": "stdout",
     "output_type": "stream",
     "text": [
      "['AAACT2727Q']\n"
     ]
    }
   ],
   "source": [
    "pan = []\n",
    "pan = find_PAN(pan, pages[0])\n",
    "print(pan)"
   ]
  },
  {
   "cell_type": "markdown",
   "metadata": {},
   "source": [
    "To find dates"
   ]
  },
  {
   "cell_type": "code",
   "execution_count": 130,
   "metadata": {},
   "outputs": [
    {
     "name": "stdout",
     "output_type": "stream",
     "text": [
      "['01/09/1945', '01/04/2021', '31/03/2022', '31/08/2022']\n"
     ]
    }
   ],
   "source": [
    "pattern = r'[0-9]{2}/[0-9]{2}/[0-9]{4}'\n",
    "date = []\n",
    "\n",
    "for page in pages:\n",
    "    match = re.findall(pattern,page.extract_text())\n",
    "    for e in match:\n",
    "        date.append(e)\n",
    "\n",
    "print(date)"
   ]
  },
  {
   "cell_type": "code",
   "execution_count": 131,
   "metadata": {},
   "outputs": [],
   "source": [
    "def find_date(date:list,page):\n",
    "    pattern = r'[0-9]{2}/[0-9]{2}/[0-9]{4}'\n",
    "\n",
    "    match = re.findall(pattern,page.extract_text())\n",
    "    for e in match:\n",
    "        date.append(e)\n",
    "\n",
    "    return date"
   ]
  },
  {
   "cell_type": "markdown",
   "metadata": {},
   "source": [
    "To find websites "
   ]
  },
  {
   "cell_type": "code",
   "execution_count": 132,
   "metadata": {},
   "outputs": [
    {
     "name": "stdout",
     "output_type": "stream",
     "text": [
      "['www.tatamotors.com']\n"
     ]
    }
   ],
   "source": [
    "pattern = r'www.[\\w]+.[\\w]+'\n",
    "date = []\n",
    "\n",
    "for page in pages:\n",
    "    match = re.findall(pattern,page.extract_text())\n",
    "    for e in match:\n",
    "        date.append(e)\n",
    "\n",
    "print(date)"
   ]
  },
  {
   "cell_type": "code",
   "execution_count": 5,
   "metadata": {},
   "outputs": [
    {
     "name": "stdout",
     "output_type": "stream",
     "text": [
      "Form-MGT-7.pdf\n"
     ]
    }
   ],
   "source": [
    "pattern = r'[^/]+\\.pdf$'\n",
    "text = 'https://www.tatamotors.com/wp-content/uploads/2023/10/Form-MGT-7.pdf'\n",
    "\n",
    "match  = re.search(pattern,text)\n",
    "print(match.group())"
   ]
  },
  {
   "cell_type": "code",
   "execution_count": null,
   "metadata": {},
   "outputs": [],
   "source": []
  }
 ],
 "metadata": {
  "kernelspec": {
   "display_name": "assign-env",
   "language": "python",
   "name": "python3"
  },
  "language_info": {
   "codemirror_mode": {
    "name": "ipython",
    "version": 3
   },
   "file_extension": ".py",
   "mimetype": "text/x-python",
   "name": "python",
   "nbconvert_exporter": "python",
   "pygments_lexer": "ipython3",
   "version": "3.12.5"
  }
 },
 "nbformat": 4,
 "nbformat_minor": 2
}
